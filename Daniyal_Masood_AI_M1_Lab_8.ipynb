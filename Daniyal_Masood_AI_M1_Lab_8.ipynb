{
 "cells": [
  {
   "cell_type": "code",
   "execution_count": 2,
   "id": "5750e85f",
   "metadata": {},
   "outputs": [
    {
     "name": "stdout",
     "output_type": "stream",
     "text": [
      "Please enter text : This is Daniyal\n",
      "UPPERCASE STRING : \n",
      " THIS IS DANIYAL\n",
      "LOWERCASE STRING : \n",
      " this is daniyal\n",
      "TITLECASE STRING : \n",
      " This Is Daniyal\n"
     ]
    }
   ],
   "source": [
    "\"\"\"\n",
    "Task 1: Case Conversion\n",
    "You are building a text processing application that requires different case conversions for strings. Implement a\n",
    "function that takes a string as input and converts it to:\n",
    "• UPPERCASE\n",
    "• Lowercase\n",
    "• Title Case (the first letter of each word capitalized)\n",
    "\"\"\"\n",
    "\n",
    "def StringFormateConverter(text):\n",
    "  uppercase = text.upper()\n",
    "  lowercase = text.lower()\n",
    "  titlecase = text.title()\n",
    "  return uppercase, lowercase, titlecase\n",
    "\n",
    "\n",
    "text = input(\"Please enter text : \")\n",
    "uppercase, lowercase, titlecase = StringFormateConverter(text)\n",
    "print(\"UPPERCASE STRING : \\n\",uppercase)\n",
    "print(\"LOWERCASE STRING : \\n\",lowercase)\n",
    "print(\"TITLECASE STRING : \\n\",titlecase) \n",
    " "
   ]
  },
  {
   "cell_type": "code",
   "execution_count": 24,
   "id": "dec1bd77",
   "metadata": {},
   "outputs": [
    {
     "name": "stdout",
     "output_type": "stream",
     "text": [
      "Hello --> 1\n",
      "my --> 1\n",
      "name --> 1\n",
      "is --> 2\n",
      "Daniyal --> 2\n",
      "Masood. --> 1\n",
      "Masood --> 1\n",
      "student --> 1\n",
      "of --> 1\n",
      "Artificial --> 1\n",
      "Intelligence --> 1\n"
     ]
    }
   ],
   "source": [
    "\"\"\"\n",
    "Task 2: Word Count\n",
    "You have a large text document and need to count the occurrence of each word in it. Implement a function that takes\n",
    "a string as input and returns a dictionary where the keys are the unique words and the values are the counts of their\n",
    "occurrences.\n",
    "\"\"\"\n",
    "\n",
    "text = \"Hello my name is Daniyal Masood. Daniyal Masood is student of Artificial Intelligence\"\n",
    "def WordCounter(text):\n",
    "    WordDictionary = dict()\n",
    "    WordList = text.split(\" \")\n",
    "    for word in WordList:\n",
    "        if word in WordDictionary:\n",
    "            WordDictionary[word] +=1\n",
    "        else:\n",
    "            WordDictionary[word] = 1\n",
    "    return WordDictionary\n",
    "\n",
    "WordDictionary = {}\n",
    "WordDictionary = WordCounter(text)\n",
    "for i in WordDictionary:\n",
    "    print(i, \"-->\", WordDictionary[i]) "
   ]
  },
  {
   "cell_type": "code",
   "execution_count": 21,
   "id": "42187f39",
   "metadata": {},
   "outputs": [
    {
     "name": "stdout",
     "output_type": "stream",
     "text": [
      "Please enter password for verification : Daniyal 12\n",
      "Invalid Password\n"
     ]
    }
   ],
   "source": [
    "\"\"\"\n",
    "Task 3: Password Validation\n",
    "You are developing a user registration system and need to implement password validation rules. Create a function\n",
    "that takes a password as input and checks if it meets the following criteria:\n",
    "•  At least 8 characters long\n",
    "•  Contains at least one uppercase letter, one lowercase letter, and one digit\n",
    "•  Does not contain any spaces\n",
    "\"\"\"\n",
    "\n",
    "def PasswordChecker(text):\n",
    "    lowercounter = 0\n",
    "    uppercounter = 0\n",
    "    digitcounter = 0\n",
    "    spacecounter = 0\n",
    "    PasswordLength = len(text)\n",
    "    if PasswordLength < 8:\n",
    "        print(\"Invalid Password : \")\n",
    "    else:\n",
    "        for i in text:\n",
    "            if i.islower():\n",
    "                lowercounter +=1\n",
    "            if i.isupper():\n",
    "                uppercounter +=1\n",
    "            if i.isdigit():\n",
    "                digitcounter +=1\n",
    "            if i.isspace():\n",
    "                spacecounter +=1\n",
    "            if lowercounter >=1 and uppercounter >=1 and digitcounter >=1 and spacecounter < 1:\n",
    "                flag = 1\n",
    "            else:\n",
    "                flag = 0 \n",
    "        if flag == 1:\n",
    "            print(\"Valid Password\")\n",
    "        else:\n",
    "            print(\"Invalid Password\")\n",
    "\n",
    "                \n",
    "text = input(\"Please enter password for verification : \")\n",
    "PasswordChecker(text)"
   ]
  },
  {
   "cell_type": "code",
   "execution_count": 23,
   "id": "4126a1ab",
   "metadata": {},
   "outputs": [
    {
     "name": "stdout",
     "output_type": "stream",
     "text": [
      "Enter your email : daniyalmasood1000@gmail.com\n",
      "{'Username': 'daniyalmasood1000'}\n"
     ]
    }
   ],
   "source": [
    "\"\"\"\n",
    "You are building an email client application and need to extract information from email addresses. Implement a\n",
    "function that takes an email address as input and returns a dictionary with the following information:\n",
    "• Username (the part before the '@' symbol)\n",
    "• Domain (the part domain the '@' symbol)\n",
    "• Top-Level Domain (the part after dot , e.g ‘.com’)\n",
    "\"\"\"\n",
    "\n",
    "def EmailParser(text):\n",
    "    text = text.replace(\".\",\"@\")\n",
    "    EmailDictionary = {}\n",
    "    EmailDetails = [\"Username\", \"Domain\", \"Top Level Domain\"]\n",
    "    EmailElements = text.split(\"@\")\n",
    "\n",
    "    for i in range(len(EmailDetails)):\n",
    "        EmailDictionary[EmailDetails[i]] = EmailElements[i]\n",
    "    return EmailDictionary\n",
    "text = input(\"Enter your email : \")\n",
    "ElementDictionary = {}\n",
    "ElementDictionary = EmailParser(text)\n",
    "print(ElementDictionary) "
   ]
  },
  {
   "cell_type": "code",
   "execution_count": 30,
   "id": "d9ec65ff",
   "metadata": {},
   "outputs": [
    {
     "name": "stdout",
     "output_type": "stream",
     "text": [
      "  This is Mr Daniyal Masood\n"
     ]
    }
   ],
   "source": [
    "\"\"\"\n",
    "Task 5: String Concatenation\n",
    "You are developing a program that requires joining multiple strings together efficiently. Implement a function that\n",
    "takes a list of strings as input and returns a single concatenated string using the most efficient approach.\n",
    "\"\"\"\n",
    "\n",
    "def StringConcatenator(list1, list2):\n",
    "    list3 = list1 + list2\n",
    "    string = ' '\n",
    "    for x in list3:\n",
    "        string += ' '+ x\n",
    "    return string\n",
    "\n",
    "list1 = ['This', 'is', 'Mr']\n",
    "list2 = ['Daniyal', 'Masood']\n",
    "FinalString = StringConcatenator(list1, list2)\n",
    "print(FinalString) \n"
   ]
  },
  {
   "cell_type": "code",
   "execution_count": 28,
   "id": "2fecb631",
   "metadata": {},
   "outputs": [
    {
     "name": "stdout",
     "output_type": "stream",
     "text": [
      "Please enter the word : madam\n",
      "String is Palindrome\n"
     ]
    }
   ],
   "source": [
    "\"\"\"\n",
    "Task 6: Palindrome Detection\n",
    "You are building a program that checks if a given string is a palindrome (reads the same\n",
    "forward and backward). Implement a function that takes a string as input and returns True if\n",
    "it is a palindrome, and False otherwise\n",
    "\"\"\"\n",
    "\n",
    "def PalindromeChecker(text):\n",
    "    reverse_text = text[::-1]\n",
    "    if reverse_text == text:\n",
    "        print(\"String is Palindrome\")\n",
    "    else:\n",
    "        print(\"String is not Palindrome\")\n",
    "\n",
    "text = input(\"Please enter the word : \")\n",
    "PalindromeChecker(text) "
   ]
  }
 ],
 "metadata": {
  "kernelspec": {
   "display_name": "Python 3 (ipykernel)",
   "language": "python",
   "name": "python3"
  },
  "language_info": {
   "codemirror_mode": {
    "name": "ipython",
    "version": 3
   },
   "file_extension": ".py",
   "mimetype": "text/x-python",
   "name": "python",
   "nbconvert_exporter": "python",
   "pygments_lexer": "ipython3",
   "version": "3.10.9"
  }
 },
 "nbformat": 4,
 "nbformat_minor": 5
}
