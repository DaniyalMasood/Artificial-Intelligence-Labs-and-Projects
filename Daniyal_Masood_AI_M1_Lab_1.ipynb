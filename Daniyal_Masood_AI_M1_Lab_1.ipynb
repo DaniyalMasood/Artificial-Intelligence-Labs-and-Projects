{
 "cells": [
  {
   "cell_type": "code",
   "execution_count": 35,
   "id": "41c8fe15",
   "metadata": {},
   "outputs": [
    {
     "name": "stdout",
     "output_type": "stream",
     "text": [
      "Please enter your name : Daniyal Masood\n",
      "Please enter your roll number : BSEE18015\n",
      "Please enter your age : 23\n",
      "Enter your date of birth : 11-August-1999\n",
      "Enter your Gender : Male\n",
      "\n",
      "Your name is :  Daniyal Masood\n",
      "Your roll number is :  BSEE18015\n",
      "Your age is :  23\n",
      "Your date of birth is :  11-August-1999\n",
      "Your gender is :  Male\n"
     ]
    }
   ],
   "source": [
    "# Question 1\n",
    "#Store your Bio data (Name, Roll number, Age, Date of Birth and Gender) in the variable\n",
    "\n",
    "Name = input(\"Please enter your name : \")\n",
    "Roll_Number = input(\"Please enter your roll number : \")\n",
    "Age = input(\"Please enter your age : \")\n",
    "Date_Of_Birth = input(\"Enter your date of birth : \")\n",
    "Gender = input(\"Enter your Gender : \")\n",
    "\n",
    "\n",
    "print(\"\\nYour name is : \", Name)\n",
    "print(\"Your roll number is : \", Roll_Number)\n",
    "print(\"Your age is : \", Age)\n",
    "print(\"Your date of birth is : \", Date_Of_Birth)\n",
    "print(\"Your gender is : \", Gender)"
   ]
  },
  {
   "cell_type": "code",
   "execution_count": 9,
   "id": "90f711f6",
   "metadata": {},
   "outputs": [
    {
     "name": "stdout",
     "output_type": "stream",
     "text": [
      "Enter the number of dollers you have : 200\n",
      "Enter the current rate of dollar : 100\n",
      "You have  20000  Pakistan Rupees \n"
     ]
    }
   ],
   "source": [
    "# Question 2\n",
    "# Write a program to convert $ dollar into Pakistani Rupees.\n",
    "\n",
    "No_Of_Dollars = int(input(\"Enter the number of dollers you have : \"))\n",
    "Current_Rate_Of_Dollar = int(input(\"Enter the current rate of dollar : \"))\n",
    "No_Of_Pak_Rupees = No_Of_Dollars * Current_Rate_Of_Dollar\n",
    "print(\"You have \",No_Of_Pak_Rupees,\" Pakistan Rupees \")\n"
   ]
  },
  {
   "cell_type": "code",
   "execution_count": 12,
   "id": "36d644bf",
   "metadata": {},
   "outputs": [
    {
     "name": "stdout",
     "output_type": "stream",
     "text": [
      "Please enter the first number : 23\n",
      "Please enter the second number : 34\n",
      "\n",
      "Addition of the numbers is : 57\n",
      "Subtraction of the numbers is : -11\n",
      "Multiplication of the numbers is : 782\n",
      "Division of the numbers is : 0.6764705882352942\n"
     ]
    }
   ],
   "source": [
    "# Question 3\n",
    "# Take two number from user and then Calculate these manipulations sum, subtract, multiple and division\n",
    "\n",
    "First_Num = int(input(\"Please enter the first number : \"))\n",
    "Second_Num = int(input(\"Please enter the second number : \"))\n",
    "\n",
    "print(\"\\nAddition of the numbers is :\", First_Num + Second_Num)\n",
    "print(\"Subtraction of the numbers is :\", First_Num - Second_Num)\n",
    "print(\"Multiplication of the numbers is :\", First_Num * Second_Num)\n",
    "print(\"Division of the numbers is :\", First_Num / Second_Num)"
   ]
  },
  {
   "cell_type": "code",
   "execution_count": 16,
   "id": "e03efe83",
   "metadata": {},
   "outputs": [
    {
     "name": "stdout",
     "output_type": "stream",
     "text": [
      "************************\n",
      "*                      *\n",
      "*                      *\n",
      "*                      *\n",
      "*                      *\n",
      "************************\n"
     ]
    }
   ],
   "source": [
    "# Question 4\n",
    "#Please draw these diagrams.\n",
    "\n",
    "\"\"\"\n",
    "************************\n",
    "*                      *\n",
    "*                      *\n",
    "*                      *\n",
    "*                      *\n",
    "************************\n",
    "\n",
    "\"\"\"\n",
    "\n",
    "print(\"************************\")\n",
    "print(\"*                      *\")\n",
    "print(\"*                      *\")\n",
    "print(\"*                      *\")\n",
    "print(\"*                      *\")\n",
    "print(\"************************\")"
   ]
  },
  {
   "cell_type": "code",
   "execution_count": 18,
   "id": "d3ee58da",
   "metadata": {},
   "outputs": [
    {
     "name": "stdout",
     "output_type": "stream",
     "text": [
      "Please enter the first number : 12\n",
      "Please enter the second number : 5\n",
      "\n",
      "Addition of the numbers is : 2.4\n"
     ]
    }
   ],
   "source": [
    "# Question 5\n",
    "# take two number from user and divide them and display them without floating point.\n",
    "\n",
    "First_Num = int(input(\"Please enter the first number : \"))\n",
    "Second_Num = int(input(\"Please enter the second number : \"))\n",
    "\n",
    "print(\"\\nAddition of the numbers is :\",int((First_Num / Second_Num)))"
   ]
  },
  {
   "cell_type": "code",
   "execution_count": 24,
   "id": "22489067",
   "metadata": {},
   "outputs": [
    {
     "name": "stdout",
     "output_type": "stream",
     "text": [
      "Enter temperature in Celsius : 37\n",
      "Temperature in Fahrenheit is :  98.60000000000001\n"
     ]
    }
   ],
   "source": [
    "# Question 6\n",
    "# Take the value from user in Celsius and covert into Fahrenheit.\n",
    "\n",
    "Temperature_In_Celsius = float(input(\"Enter temperature in Celsius : \"))\n",
    "Temperature_In_Fahrenheit = (Temperature_In_Celsius * 1.8) + 32\n",
    "print(\"Temperature in Fahrenheit is : \",Temperature_In_Fahrenheit)"
   ]
  },
  {
   "cell_type": "code",
   "execution_count": 25,
   "id": "efdf1d7f",
   "metadata": {},
   "outputs": [
    {
     "name": "stdout",
     "output_type": "stream",
     "text": [
      "Enter value of x1 : 23\n",
      "Enter value of x2 : 34\n",
      "Enter value of y1 : 23\n",
      "Enter value of y2 : 56\n",
      "The value of the slop is :  3.0\n"
     ]
    }
   ],
   "source": [
    "# Question 7\n",
    "# Find the slope x1=5, x2=10 Where y1=3, y2=5 , b will be enter from user (m=y2-y1/x2-x1)\n",
    "\n",
    "x1 = float(input(\"Enter value of x1 : \"))\n",
    "x2 = float(input(\"Enter value of x2 : \"))\n",
    "y1 = float(input(\"Enter value of y1 : \"))\n",
    "y2 = float(input(\"Enter value of y2 : \"))\n",
    "m = ((y2-y1)/(x2-x1))\n",
    "print(\"The value of the slop is : \", m)"
   ]
  },
  {
   "cell_type": "code",
   "execution_count": 34,
   "id": "7248e58e",
   "metadata": {},
   "outputs": [
    {
     "name": "stdout",
     "output_type": "stream",
     "text": [
      "Please enter your height in feet : 23\n",
      "Please enter your height in cm : 34\n",
      "Your height in meters from feets is :  7.010057909174032\n",
      "Your height in meters from feets is :  0.034\n"
     ]
    }
   ],
   "source": [
    "# Question 8\n",
    "# Enter your height in feet and centimeters then system will display in meters\n",
    "\n",
    "Height_In_Feet = float(input(\"Please enter your height in feet : \"))\n",
    "Height_In_Centimeters = float(input(\"Please enter your height in cm : \"))\n",
    "\n",
    "Height_In_Meters_From_Feets = ((Height_In_Feet) /3.281)\n",
    "Height_In_Meters_From_centimeters = ((Height_In_Centimeters)/100)\n",
    "\n",
    "print(\"Your height in meters from feets is : \", Height_In_Meters_From_Feets)\n",
    "print(\"Your height in meters from feets is : \", Height_In_Meters_From_centimeters)\n"
   ]
  },
  {
   "cell_type": "code",
   "execution_count": 33,
   "id": "9dc93809",
   "metadata": {},
   "outputs": [
    {
     "name": "stdout",
     "output_type": "stream",
     "text": [
      "Enter your English Marks : 100\n",
      "Enter your Urdu Marks : 100\n",
      "Enter your Maths Marks : 100\n",
      "Enter your Physics Marks : 100\n",
      "Enter your Chemistry Marks : 100\n",
      "Enter your Biology Marks : 100\n",
      "Enter your Islamiat Marks : 100\n",
      "Enter your Pak Study Marks : 100\n",
      "Enter Total Marks of Matric : 1100\n",
      "\n",
      "Your Obtained Marks are :  800\n",
      "Your Percentage is :  72.72727272727273\n",
      "\n",
      "English Percenatage :  66.66666666666666\n",
      "English Percenatage :  66.66666666666666\n",
      "English Percenatage :  66.66666666666666\n",
      "English Percenatage :  66.66666666666666\n",
      "English Percenatage :  66.66666666666666\n",
      "English Percenatage :  66.66666666666666\n",
      "English Percenatage :  100.0\n",
      "English Percenatage :  100.0\n"
     ]
    }
   ],
   "source": [
    "# Question 9\n",
    "# Enter your matriculation marks subject wise and the system will display total marks and percentage of all also display subject wise percentage\n",
    "\n",
    "Marks_In_English = int(input(\"Enter your English Marks : \"))\n",
    "Marks_In_Urdu = int(input(\"Enter your Urdu Marks : \"))\n",
    "Marks_In_Maths = int(input(\"Enter your Maths Marks : \"))\n",
    "Marks_In_Physics = int(input(\"Enter your Physics Marks : \"))\n",
    "Marks_In_Chemistry = int(input(\"Enter your Chemistry Marks : \"))\n",
    "Marks_In_Biology = int(input(\"Enter your Biology Marks : \"))\n",
    "Marks_In_Islamiat = int(input(\"Enter your Islamiat Marks : \"))\n",
    "Marks_In_PakStudy = int(input(\"Enter your Pak Study Marks : \"))\n",
    "\n",
    "Total_Marks = int(input(\"Enter Total Marks of Matric : \"))\n",
    "Obtain_Marks = (Marks_In_English+Marks_In_Urdu+Marks_In_Maths+Marks_In_Physics+Marks_In_Chemistry+Marks_In_Biology+Marks_In_Islamiat+Marks_In_PakStudy)\n",
    "Percentage = (Obtain_Marks/Total_Marks)*100\n",
    "\n",
    "print(\"\\nYour Obtained Marks are : \",Obtain_Marks)\n",
    "print(\"Your Percentage is : \",Percentage)\n",
    "\n",
    "print(\"\\nEnglish Percenatage : \",(Marks_In_English/150)*100)\n",
    "print(\"English Percenatage : \",(Marks_In_Urdu/150)*100)\n",
    "print(\"English Percenatage : \",(Marks_In_Maths/150)*100)\n",
    "print(\"English Percenatage : \",(Marks_In_Physics/150)*100)\n",
    "print(\"English Percenatage : \",(Marks_In_Chemistry/150)*100)\n",
    "print(\"English Percenatage : \",(Marks_In_Biology/150)*100)\n",
    "print(\"English Percenatage : \",(Marks_In_Islamiat/100)*100)\n",
    "print(\"English Percenatage : \",(Marks_In_PakStudy/100)*100)\n",
    "\n"
   ]
  }
 ],
 "metadata": {
  "kernelspec": {
   "display_name": "Python 3 (ipykernel)",
   "language": "python",
   "name": "python3"
  },
  "language_info": {
   "codemirror_mode": {
    "name": "ipython",
    "version": 3
   },
   "file_extension": ".py",
   "mimetype": "text/x-python",
   "name": "python",
   "nbconvert_exporter": "python",
   "pygments_lexer": "ipython3",
   "version": "3.10.9"
  }
 },
 "nbformat": 4,
 "nbformat_minor": 5
}
