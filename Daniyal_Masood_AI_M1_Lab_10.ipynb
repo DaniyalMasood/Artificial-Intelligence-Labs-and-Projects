{
 "cells": [
  {
   "cell_type": "code",
   "execution_count": 2,
   "id": "48cd68c9",
   "metadata": {},
   "outputs": [],
   "source": [
    "import numpy as np"
   ]
  },
  {
   "cell_type": "code",
   "execution_count": 3,
   "id": "64ba9c6b",
   "metadata": {},
   "outputs": [
    {
     "name": "stdout",
     "output_type": "stream",
     "text": [
      "[[0 1 2]\n",
      " [3 4 5]\n",
      " [6 7 8]]\n"
     ]
    }
   ],
   "source": [
    "\"\"\"\n",
    "Task 1.\n",
    "Create a 3x3 matrix with values ranging from 0 to 8\n",
    "\"\"\"\n",
    "matrix = np.arange(0,9)\n",
    "matrix = matrix.reshape(3,3)\n",
    "print(matrix) "
   ]
  },
  {
   "cell_type": "code",
   "execution_count": 4,
   "id": "6c3199fd",
   "metadata": {},
   "outputs": [
    {
     "name": "stdout",
     "output_type": "stream",
     "text": [
      "[[1. 0. 0.]\n",
      " [0. 2. 0.]\n",
      " [0. 0. 3.]]\n"
     ]
    }
   ],
   "source": [
    "\"\"\"\n",
    "Task 2.\n",
    "Create a 3x3 matrix where the diagonal elements are [1, 2, 3] and the offdiagonal elements are zeros.\n",
    "\"\"\"\n",
    "matrix = np.zeros((3,3))\n",
    "for i in range(0,3):\n",
    "    matrix[i,i] = i+1\n",
    "print(matrix) "
   ]
  },
  {
   "cell_type": "code",
   "execution_count": 6,
   "id": "25bce3ea",
   "metadata": {},
   "outputs": [
    {
     "name": "stdout",
     "output_type": "stream",
     "text": [
      "Array :  [1 2 3 4 5]\n",
      "Mean :  3.0\n",
      "Median :  3.0\n",
      "Std :  1.4142135623730951\n"
     ]
    }
   ],
   "source": [
    "\"\"\"\n",
    "Task 3.\n",
    "Find the mean, median, and standard deviation of an array [1, 2, 3, 4, 5].\n",
    "\"\"\"\n",
    "array = np.arange(1,6)\n",
    "print(\"Array : \",array)\n",
    "mean = np.mean(array)\n",
    "print(\"Mean : \", mean)\n",
    "median = np.median(array)\n",
    "print(\"Median : \", median)\n",
    "std = np.std(array)\n",
    "print(\"Std : \", std) \n"
   ]
  },
  {
   "cell_type": "code",
   "execution_count": 7,
   "id": "2f965762",
   "metadata": {},
   "outputs": [
    {
     "name": "stdout",
     "output_type": "stream",
     "text": [
      "C :  [1 2 3 4 5 6]\n"
     ]
    }
   ],
   "source": [
    "\"\"\"\n",
    "Task 4\n",
    ".Given two arrays A = [1, 2, 3] and B = [4, 5, 6], concatenate them into a single array.\n",
    "\"\"\"\n",
    "A = np.array([1, 2, 3])\n",
    "B = np.array([4, 5, 6])\n",
    "C = np.concatenate([A, B])\n",
    "print(\"C : \", C) \n"
   ]
  },
  {
   "cell_type": "code",
   "execution_count": 8,
   "id": "afa1b55f",
   "metadata": {},
   "outputs": [
    {
     "name": "stdout",
     "output_type": "stream",
     "text": [
      "Matrix A :\n",
      "\n",
      "[[1 2]\n",
      " [3 4]]\n",
      "\n",
      "Matrix B :\n",
      "\n",
      "[[5 6]\n",
      " [7 8]]\n",
      "\n",
      "Dot Product of A and B :\n",
      "\n",
      "[[19 22]\n",
      " [43 50]]\n",
      "\n"
     ]
    }
   ],
   "source": [
    "\"\"\"\n",
    "Task 5.\n",
    "Find the dot product of two matrices: A = [[1, 2], [3, 4]] and B = [[5, 6], [7, 8]].\n",
    "\"\"\"\n",
    "\n",
    "A = np.array([[1, 2],[3, 4]])\n",
    "print(\"Matrix A :\\n\")\n",
    "print(A)\n",
    "print()\n",
    "B = np.array([[5, 6],[7, 8]])\n",
    "print(\"Matrix B :\\n\")\n",
    "print(B)\n",
    "print()\n",
    "DotProduct = np.dot(A, B)\n",
    "print(\"Dot Product of A and B :\\n\")\n",
    "print(DotProduct)\n",
    "print() "
   ]
  },
  {
   "cell_type": "code",
   "execution_count": 9,
   "id": "11fc6ffa",
   "metadata": {},
   "outputs": [
    {
     "name": "stdout",
     "output_type": "stream",
     "text": [
      "Original Numpy Array :  [1 2 3 4 5]\n",
      "\n",
      "Replaced Array :  [1 0 3 0 5]\n"
     ]
    }
   ],
   "source": [
    "\"\"\"\n",
    "Task 6\n",
    ".Given an array [1, 2, 3, 4, 5], replace all even numbers with zeros.\n",
    "\"\"\"\n",
    "\n",
    "array = np.arange(1,6)\n",
    "print(\"Original Numpy Array : \", array)\n",
    "print()\n",
    "array[array%2 == 0] = 0\n",
    "print(\"Replaced Array : \", array)"
   ]
  },
  {
   "cell_type": "code",
   "execution_count": 10,
   "id": "fbf5b397",
   "metadata": {},
   "outputs": [
    {
     "name": "stdout",
     "output_type": "stream",
     "text": [
      "Original Matrix : \n",
      "[[1 2 3]\n",
      " [4 5 6]\n",
      " [7 8 9]]\n",
      "\n",
      "Column wise sum of Matrix is : \n",
      "[12 15 18]\n"
     ]
    }
   ],
   "source": [
    "\"\"\"\n",
    "Task 7\n",
    "Given a matrix [[1, 2, 3], [4, 5, 6], [7, 8, 9]], calculate the sum of each column.\n",
    "\"\"\"\n",
    "\n",
    "array = np.arange(1,10)\n",
    "array = array.reshape(3,3)\n",
    "print(\"Original Matrix : \")\n",
    "print(array)\n",
    "print()\n",
    "SumArray = np.sum(array, axis = 0)\n",
    "print(\"Column wise sum of Matrix is : \")\n",
    "print(SumArray)"
   ]
  },
  {
   "cell_type": "code",
   "execution_count": 11,
   "id": "03588678",
   "metadata": {},
   "outputs": [
    {
     "name": "stdout",
     "output_type": "stream",
     "text": [
      "The indeces of A with greater value than B are : \n",
      "(array([0, 3, 5, 6, 9], dtype=int64),)\n"
     ]
    }
   ],
   "source": [
    "\"\"\"\n",
    "Task 8\n",
    "Write a function that takes two arrays A and B, and returns the indices where\n",
    "the elements of A are greater than the corresponding elements of B.\n",
    "\"\"\"\n",
    "\n",
    "def LargestIndex(array1, array2):\n",
    "    array3 = np.where(array1 > array2)\n",
    "    return array3\n",
    "array1 = np.array([10, 4, 23, -100, 200, 789, 4000, 0, 1, 555])\n",
    "array2 = np.array([-10, 40, 23, -200, 2000, 788, 2000, 0, 100, 524])\n",
    "print(\"The indeces of A with greater value than B are : \")\n",
    "index = LargestIndex(array1,array2)\n",
    "print (index) \n"
   ]
  },
  {
   "cell_type": "code",
   "execution_count": 14,
   "id": "2d385a57",
   "metadata": {},
   "outputs": [
    {
     "name": "stdout",
     "output_type": "stream",
     "text": [
      "[[1 2 3]\n",
      " [4 5 6]\n",
      " [7 8 9]]\n",
      "\n",
      "The sum of diagonal that are divisible by 3 is :  15\n"
     ]
    }
   ],
   "source": [
    "\"\"\"\n",
    "Task 9\n",
    "Given a 2D array, calculate the sum of the diagonal elements that are divisible\n",
    "by 3.\n",
    "\"\"\"\n",
    "\n",
    "matrix = np.arange(1, 10)\n",
    "matrix = matrix.reshape(3,3)\n",
    "print(matrix)\n",
    "matrix = np.diag(matrix)\n",
    "DiagonalSum = sum(matrix[matrix%2 !=0])\n",
    "print(\"\\nThe sum of diagonal that are divisible by 3 is : \",DiagonalSum) "
   ]
  },
  {
   "cell_type": "code",
   "execution_count": 20,
   "id": "3a011483",
   "metadata": {},
   "outputs": [
    {
     "name": "stdout",
     "output_type": "stream",
     "text": [
      "The matrix is : \n",
      "\n",
      "[[ 4 56 20 10]\n",
      " [80  7  6  5]]\n",
      "\n",
      "The row of matrix with maximum sum is :  [80  7  6  5]\n"
     ]
    }
   ],
   "source": [
    "\"\"\"\n",
    "Task 10.\n",
    "Create a function that takes a 2D array and returns the row with the maximum\n",
    "sum of its elements.\n",
    "\"\"\"\n",
    "\n",
    "def max_sum_row(array):\n",
    "    Rowsum = np.sum(array, axis=1)\n",
    "    MaxSumIndex =np.argmax(Rowsum)\n",
    "    return array[MaxSumIndex]\n",
    "array=np.array([[4,56,20,10],[80,7,6,5]])\n",
    "print(\"The matrix is : \\n\")\n",
    "print(array)\n",
    "print(\"\\nThe row of matrix with maximum sum is : \",max_sum_row(array))   "
   ]
  },
  {
   "cell_type": "code",
   "execution_count": 21,
   "id": "456d9238",
   "metadata": {},
   "outputs": [
    {
     "name": "stdout",
     "output_type": "stream",
     "text": [
      "Original Matrix\n",
      "[[ 2 -1 -2 -5  2]\n",
      " [ 4 -5 -4  0 -4]\n",
      " [-3  2 -5  4 -2]\n",
      " [-1 -2 -5 -5  2]\n",
      " [ 3 -2 -2 -3 -3]]\n",
      "\n",
      "Changed Matrix\n",
      "[[2 0 0 0 2]\n",
      " [4 0 0 0 0]\n",
      " [0 2 0 4 0]\n",
      " [0 0 0 0 2]\n",
      " [3 0 0 0 0]]\n"
     ]
    }
   ],
   "source": [
    "\"\"\"\n",
    "Task 11.\n",
    "Generate a random 5x5 matrix and replace all negative values with zeros, while\n",
    "keeping the positive values intact.\n",
    "\"\"\"\n",
    "\n",
    "matrix = np.random.randint(-5,5,(5,5))\n",
    "print(\"Original Matrix\")\n",
    "print(matrix)\n",
    "matrix[matrix<0]= 0\n",
    "print(\"\\nChanged Matrix\")\n",
    "print(matrix) \n"
   ]
  },
  {
   "cell_type": "code",
   "execution_count": 22,
   "id": "5212c623",
   "metadata": {},
   "outputs": [
    {
     "name": "stdout",
     "output_type": "stream",
     "text": [
      "[ 6.  9. 12. 15. 18. 21. 24. 27.]\n"
     ]
    }
   ],
   "source": [
    "\"\"\"\n",
    "Task 12.\n",
    "Given a 1D array, calculate the moving average over a window of size 3. The\n",
    "mov-ing average at index i is the average of elements at indices i-1, i, and i+1.\n",
    "\"\"\"\n",
    "\n",
    "array1=np.arange(1,11)\n",
    "end =3\n",
    "array2=np.array([])\n",
    "for i in range(0,8):\n",
    "    result = sum(array1[i:end])\n",
    "    i+=1\n",
    "    end+=1\n",
    "    array2=np.append(array2,result)\n",
    "print(array2) \n"
   ]
  },
  {
   "cell_type": "code",
   "execution_count": 23,
   "id": "2676c140",
   "metadata": {},
   "outputs": [
    {
     "name": "stdout",
     "output_type": "stream",
     "text": [
      "euclidean distance is 74.24957912338628\n"
     ]
    }
   ],
   "source": [
    "\"\"\"\n",
    "Task 13.\n",
    "Implement the Euclidean distance function that takes two arrays as inputs and\n",
    "re-turns the Euclidean distance between them.\n",
    "\"\"\"\n",
    "\n",
    "def Euclidean_Distance(array1,array2):\n",
    "    difference = array1-array2\n",
    "    squared_difference=np.square(difference)\n",
    "    sum_squared_difference=np.sum(squared_difference, axis=-1)\n",
    "    distance=np.sqrt(sum_squared_difference)\n",
    "    return distance\n",
    "array1=np.array([12,3,20])\n",
    "array2=np.array([40,55,65])\n",
    "print(\"euclidean distance is\", Euclidean_Distance(array1,array2)) "
   ]
  },
  {
   "cell_type": "code",
   "execution_count": 24,
   "id": "8e37250e",
   "metadata": {},
   "outputs": [
    {
     "name": "stdout",
     "output_type": "stream",
     "text": [
      "Normalized array is [0.   0.25 0.5  0.75 1.  ]\n"
     ]
    }
   ],
   "source": [
    "\"\"\"\n",
    "Task 14:\n",
    "Create a function that takes an array and returns a new array with the\n",
    "elements normalized between 0 and 1.\n",
    "\"\"\"\n",
    "\n",
    "def normalize(array):\n",
    "    arr_min=np.min(array)\n",
    "    arr_max=np.max(array)\n",
    "    normalized_arr= (array - arr_min)/ (arr_max - arr_min)\n",
    "    return normalized_arr\n",
    "array = np.array([10,20,30,40,50])\n",
    "normalized_array = normalize(array)\n",
    "print(\"Normalized array is\", normalized_array) "
   ]
  },
  {
   "cell_type": "code",
   "execution_count": null,
   "id": "504c8625",
   "metadata": {},
   "outputs": [],
   "source": []
  }
 ],
 "metadata": {
  "kernelspec": {
   "display_name": "Python 3 (ipykernel)",
   "language": "python",
   "name": "python3"
  },
  "language_info": {
   "codemirror_mode": {
    "name": "ipython",
    "version": 3
   },
   "file_extension": ".py",
   "mimetype": "text/x-python",
   "name": "python",
   "nbconvert_exporter": "python",
   "pygments_lexer": "ipython3",
   "version": "3.10.9"
  }
 },
 "nbformat": 4,
 "nbformat_minor": 5
}
