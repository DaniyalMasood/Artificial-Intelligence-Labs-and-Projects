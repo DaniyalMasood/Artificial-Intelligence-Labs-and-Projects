{
 "cells": [
  {
   "cell_type": "code",
   "execution_count": 1,
   "id": "6c351876",
   "metadata": {},
   "outputs": [
    {
     "name": "stdout",
     "output_type": "stream",
     "text": [
      "1000\n"
     ]
    }
   ],
   "source": [
    "# Question 1\n",
    "# Write a Python program to find the maximum element in a given list.\n",
    "\n",
    "list = [20, 40, 70, 30, 100, 1000, -2, 0, -1000, 1]\n",
    "\n",
    "print(\"The maximum element of the list is : \",max(list))"
   ]
  },
  {
   "cell_type": "code",
   "execution_count": 3,
   "id": "1c8d4aff",
   "metadata": {},
   "outputs": [
    {
     "name": "stdout",
     "output_type": "stream",
     "text": [
      "The element sum of the list is :  259\n"
     ]
    }
   ],
   "source": [
    "# Question 2\n",
    "# Write a Python program to calculate the sum of all the elements in a given list.\n",
    "\n",
    "list = [20, 40, 70, 30, 100, 1000, -2, 0, -1000, 1]\n",
    "print(\"The element sum of the list is : \",sum(list))"
   ]
  },
  {
   "cell_type": "code",
   "execution_count": 6,
   "id": "c15499c5",
   "metadata": {},
   "outputs": [
    {
     "name": "stdout",
     "output_type": "stream",
     "text": [
      "List is not empty\n",
      "List is empty\n"
     ]
    }
   ],
   "source": [
    "# Question 3\n",
    "# Write a Python program to check if a given list is empty or not.\n",
    "\n",
    "list_1 = [20, 40, 70, 30, 100, 1000, -2, 0, -1000, 1]\n",
    "\n",
    "if list_1 == []:\n",
    "    print(\"List is empty\")\n",
    "    \n",
    "else:\n",
    "    print (\"List is not empty\")\n",
    "\n",
    "    \n",
    "list_2 = []\n",
    "\n",
    "if list_2 == []:\n",
    "    print(\"List is empty\")\n",
    "    \n",
    "else:\n",
    "    print (\"List is not empty\")\n"
   ]
  },
  {
   "cell_type": "code",
   "execution_count": null,
   "id": "a9fa3f85",
   "metadata": {},
   "outputs": [],
   "source": [
    "# Question 4\n",
    "# Write a Python program to remove duplicates from a given list.\n",
    "list = [20, 40, 70, 70, 1000, 1000, -2, 0, -1000, -2]"
   ]
  },
  {
   "cell_type": "code",
   "execution_count": 8,
   "id": "c7112836",
   "metadata": {},
   "outputs": [
    {
     "name": "stdout",
     "output_type": "stream",
     "text": [
      "Please enter the number : -70\n",
      "-70  is not present in the list\n"
     ]
    }
   ],
   "source": [
    "# Question 5\n",
    "# Write a Python program to check if a given element exists in a list.\n",
    "\n",
    "list = [20, 40, 70, 30, 100, 1000, -2, 0, -1000, 1]\n",
    "number = int(input(\"Please enter the number : \"))\n",
    "\n",
    "if number in list:\n",
    "    print(number,\" is present in the list\")\n",
    "    \n",
    "else:\n",
    "    print(number,\" is not present in the list\")\n",
    "\n"
   ]
  },
  {
   "cell_type": "code",
   "execution_count": 14,
   "id": "78095a1d",
   "metadata": {},
   "outputs": [
    {
     "name": "stdout",
     "output_type": "stream",
     "text": [
      "Reversed List: [1, -1000, 0, -2, 1000, 100, 30, 70, 40, 20]\n"
     ]
    }
   ],
   "source": [
    "# Question 6\n",
    "# Write a Python program to reverse a given list.\n",
    "\n",
    "list = [20, 40, 70, 30, 100, 1000, -2, 0, -1000, 1]\n",
    "list.reverse()\n",
    "\n",
    "\n",
    "print('Reversed List:', list)"
   ]
  },
  {
   "cell_type": "code",
   "execution_count": 15,
   "id": "fd55e237",
   "metadata": {},
   "outputs": [
    {
     "name": "stdout",
     "output_type": "stream",
     "text": [
      "Sorted List: ['b', 'c', 'f', 'u', 'x', 'y', 'z']\n"
     ]
    }
   ],
   "source": [
    "# Question 7\n",
    "# Write a Python program to sort a list of strings in alphabetical order.\n",
    "\n",
    "list = [\"z\", \"c\", \"f\", \"u\", \"b\", \"y\", \"x\"]\n",
    "list.sort()\n",
    "print('Sorted List:', list)"
   ]
  },
  {
   "cell_type": "code",
   "execution_count": 16,
   "id": "5ca0903a",
   "metadata": {},
   "outputs": [
    {
     "name": "stdout",
     "output_type": "stream",
     "text": [
      "The average of the list elements is 25.9\n"
     ]
    }
   ],
   "source": [
    "# Question 8\n",
    "# Write a Python program to find the average of all the elements in a given list.\n",
    "\n",
    "list = [20, 40, 70, 30, 100, 1000, -2, 0, -1000, 1]\n",
    "List_Element_Average = sum(list)/len(list)\n",
    "\n",
    "print(\"The average of the list elements is\",List_Element_Average)"
   ]
  },
  {
   "cell_type": "code",
   "execution_count": 17,
   "id": "cbcddffc",
   "metadata": {},
   "outputs": [
    {
     "name": "stdout",
     "output_type": "stream",
     "text": [
      "Concatenated List is  [20, 40, 70, 30, 100, 1000, -2, 0, -1000, 1, 30, 50, 90, 20, 120, 2000, -4, 1, -3000, 2]\n"
     ]
    }
   ],
   "source": [
    "# Question 9\n",
    "# Write a Python program to concatenate two lists and create a new list.\n",
    "\n",
    "list_1 = [20, 40, 70, 30, 100, 1000, -2, 0, -1000, 1]\n",
    "list_2 = [30, 50, 90, 20, 120, 2000, -4, 1, -3000, 2]\n",
    "\n",
    "concatenated_list = list_1 + list_2\n",
    "\n",
    "print(\"Concatenated List is \", concatenated_list)\n"
   ]
  },
  {
   "cell_type": "code",
   "execution_count": 19,
   "id": "a7064c4d",
   "metadata": {},
   "outputs": [
    {
     "name": "stdout",
     "output_type": "stream",
     "text": [
      "50 is even number\n",
      "52 is even number\n",
      "54 is even number\n",
      "56 is even number\n",
      "58 is even number\n",
      "60 is even number\n",
      "62 is even number\n",
      "64 is even number\n",
      "66 is even number\n",
      "68 is even number\n",
      "70 is even number\n",
      "72 is even number\n",
      "74 is even number\n",
      "76 is even number\n",
      "78 is even number\n",
      "80 is even number\n",
      "82 is even number\n",
      "84 is even number\n",
      "86 is even number\n",
      "88 is even number\n",
      "90 is even number\n",
      "92 is even number\n",
      "94 is even number\n",
      "96 is even number\n",
      "98 is even number\n",
      "100 is even number\n"
     ]
    }
   ],
   "source": [
    "number = 50\n",
    "\n",
    "while number <= 100:\n",
    "      print(number, \"is even number\")\n",
    "      number = number + 2\n",
    "    \n",
    "    "
   ]
  },
  {
   "cell_type": "code",
   "execution_count": null,
   "id": "d9addbcd",
   "metadata": {},
   "outputs": [],
   "source": [
    "number=1\n",
    "sum=0;\n",
    "while number<=100:\n",
    "number=int(input(\"Enter a number: \"))\n",
    "sum=sum+number;\n",
    "number=number+1\n",
    "avg=float(sum/100)\n",
    "print(\"Sum is \",sum)\n",
    "print(\"Average is \",avg)"
   ]
  },
  {
   "cell_type": "code",
   "execution_count": 26,
   "id": "69ad7e73",
   "metadata": {},
   "outputs": [
    {
     "name": "stdout",
     "output_type": "stream",
     "text": [
      "Time in minutes : 240\n",
      "Time is = Hours : Minutes => 4 : 0\n"
     ]
    }
   ],
   "source": [
    "time_in_minutes = int(input(\"Time in minutes : \"))\n",
    "\n",
    "if(time_in_minutes < 60):\n",
    "    Hours = 0\n",
    "    Minutes = time_in_minutes\n",
    "    print(\"Time is = Hours : Minutes : Seconds =>\", Hours,\":\",Minutes)\n",
    "    \n",
    "else:\n",
    "    Hours = int(time_in_minutes / 60)\n",
    "    Minutes = int(time_in_minutes%60)\n",
    "    print(\"Time is = Hours : Minutes =>\", Hours,\":\",Minutes)"
   ]
  },
  {
   "cell_type": "code",
   "execution_count": null,
   "id": "dcd292eb",
   "metadata": {},
   "outputs": [],
   "source": []
  },
  {
   "cell_type": "code",
   "execution_count": null,
   "id": "362172d8",
   "metadata": {},
   "outputs": [],
   "source": []
  }
 ],
 "metadata": {
  "kernelspec": {
   "display_name": "Python 3 (ipykernel)",
   "language": "python",
   "name": "python3"
  },
  "language_info": {
   "codemirror_mode": {
    "name": "ipython",
    "version": 3
   },
   "file_extension": ".py",
   "mimetype": "text/x-python",
   "name": "python",
   "nbconvert_exporter": "python",
   "pygments_lexer": "ipython3",
   "version": "3.10.9"
  }
 },
 "nbformat": 4,
 "nbformat_minor": 5
}
