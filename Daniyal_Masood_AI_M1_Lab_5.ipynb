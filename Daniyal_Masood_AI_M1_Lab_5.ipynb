{
 "cells": [
  {
   "cell_type": "code",
   "execution_count": 88,
   "id": "e5e9111d",
   "metadata": {},
   "outputs": [
    {
     "name": "stdout",
     "output_type": "stream",
     "text": [
      "Please enter the number : 10\n",
      "Factorial of 10 is 3628800\n"
     ]
    }
   ],
   "source": [
    "# Question 1\n",
    "# Write a program to find factorial of a number. Ex: 5!=5x4x3x2x1\n",
    "\n",
    "number = int(input(\"Please enter the number : \"))\n",
    "counter = 1\n",
    "factorial = 1;\n",
    "if number < 0:\n",
    "    print(\"Factorial of negative number does not exist\")\n",
    "elif number == 0:\n",
    "    print(\"Factorial of\",number,\"is\",factorial)\n",
    "else:\n",
    "    while counter <= number:\n",
    "        factorial = factorial * counter\n",
    "        counter  = counter + 1\n",
    " \n",
    "    print(\"Factorial of\",number,\"is\",factorial)\n",
    "\n",
    "    "
   ]
  },
  {
   "cell_type": "code",
   "execution_count": 89,
   "id": "cfa733ec",
   "metadata": {},
   "outputs": [
    {
     "name": "stdout",
     "output_type": "stream",
     "text": [
      "Please enter the number : 10\n",
      "* * * * * * * * * * \n",
      "* * * * * * * * * \n",
      "* * * * * * * * \n",
      "* * * * * * * \n",
      "* * * * * * \n",
      "* * * * * \n",
      "* * * * \n",
      "* * * \n",
      "* * \n",
      "* \n"
     ]
    }
   ],
   "source": [
    "# Question 2 \n",
    "# Write a program to print this shape:\n",
    "\n",
    "\"\"\"\n",
    "* * * * *\n",
    "* * * *\n",
    "* * *\n",
    "* *\n",
    "*\n",
    "\"\"\"\n",
    "\n",
    "number  = int(input(\"Please enter the number : \"))\n",
    "counter = number\n",
    "\n",
    "while counter >= 1:\n",
    "    number = counter\n",
    "    print(number*\"* \")\n",
    "    counter = counter -1\n"
   ]
  },
  {
   "cell_type": "code",
   "execution_count": 90,
   "id": "11d72b17",
   "metadata": {},
   "outputs": [
    {
     "name": "stdout",
     "output_type": "stream",
     "text": [
      "Please enter the value of n : 10\n",
      "Please enter the value of x : 23\n",
      "The sum of the series is :  414265112136491\n"
     ]
    }
   ],
   "source": [
    "# Question 3\n",
    "# Write a program to find sum of series:\n",
    "\n",
    "# 1 + x + x^2 + x^3 + ...... + x^n\n",
    "\n",
    "n = int(input(\"Please enter the value of n : \"))\n",
    "x = int(input(\"Please enter the value of x : \"))\n",
    "Sum = 0\n",
    "counter = 0\n",
    "result = 0\n",
    "\n",
    "while counter < n:\n",
    "    result = x**n\n",
    "    Sum = Sum + result\n",
    "    counter = counter + 1\n",
    "\n",
    "print(\"The sum of the series is : \",Sum+1)\n",
    "    "
   ]
  },
  {
   "cell_type": "code",
   "execution_count": 91,
   "id": "d508a5fd",
   "metadata": {},
   "outputs": [
    {
     "name": "stdout",
     "output_type": "stream",
     "text": [
      "Please enter the number : 7\n",
      "- - - - -\n",
      "+ - + - +\n",
      "- + - + -\n",
      "+ - + - +\n",
      "- + - + -\n",
      "+ - + - +\n",
      "- - - - -\n"
     ]
    }
   ],
   "source": [
    "# Question 4\n",
    "# Write a program to print this shape:\n",
    "\"\"\"\n",
    "- - - - -\n",
    "+ - + - +\n",
    "- + - + -\n",
    "+ - + - +\n",
    "- - - - -\n",
    "\n",
    "\"\"\"\n",
    "\n",
    "number = int(input(\"Please enter the number : \"))\n",
    "counter = 0\n",
    "\n",
    "while counter < number:\n",
    "    if counter == 0 or counter == (number-1):\n",
    "        print(\"- - - - -\")\n",
    "        counter +=1\n",
    "    elif counter%2 == 0:\n",
    "        print(\"- + - + -\")\n",
    "        counter +=1\n",
    "    else:\n",
    "        print(\"+ - + - +\")\n",
    "        counter +=1\n",
    "        \n",
    "        \n",
    "    \n"
   ]
  },
  {
   "cell_type": "code",
   "execution_count": 92,
   "id": "7b0b2786",
   "metadata": {},
   "outputs": [
    {
     "name": "stdout",
     "output_type": "stream",
     "text": [
      "Please enter the value of n : 10\n",
      "Please enter the value of x : 23\n",
      "The sum of the series is :  121336936217438.8\n"
     ]
    }
   ],
   "source": [
    "# Question 5\n",
    "# Find sum of series\n",
    "\n",
    "# 1 + x/1! + x^2/2! + x^3/3! + ...... + x^n/n!\n",
    "\n",
    "n = int(input(\"Please enter the value of n : \"))\n",
    "x = int(input(\"Please enter the value of x : \"))\n",
    "Sum = 0\n",
    "counter = 0\n",
    "series = 0\n",
    "factorial = 1\n",
    "\n",
    "\n",
    "while counter < n:\n",
    "    series = ((x**n)/(factorial*(counter+1)))\n",
    "    Sum = Sum + series\n",
    "    counter = counter + 1\n",
    "    \n",
    "\n",
    "\n",
    "\n",
    "print(\"The sum of the series is : \",Sum+1)\n"
   ]
  },
  {
   "cell_type": "code",
   "execution_count": 93,
   "id": "be1c6661",
   "metadata": {},
   "outputs": [
    {
     "name": "stdout",
     "output_type": "stream",
     "text": [
      "Enter length of Fibonacci series: 100\n",
      "0 1 1 2 3 5 8 13 21 34 55 89 144 233 377 610 987 1597 2584 4181 6765 10946 17711 28657 46368 75025 121393 196418 317811 514229 832040 1346269 2178309 3524578 5702887 9227465 14930352 24157817 39088169 63245986 102334155 165580141 267914296 433494437 701408733 1134903170 1836311903 2971215073 4807526976 7778742049 12586269025 20365011074 32951280099 53316291173 86267571272 139583862445 225851433717 365435296162 591286729879 956722026041 1548008755920 2504730781961 4052739537881 6557470319842 10610209857723 17167680177565 27777890035288 44945570212853 72723460248141 117669030460994 190392490709135 308061521170129 498454011879264 806515533049393 1304969544928657 2111485077978050 3416454622906707 5527939700884757 8944394323791464 14472334024676221 23416728348467685 37889062373143906 61305790721611591 99194853094755497 160500643816367088 259695496911122585 420196140727489673 679891637638612258 1100087778366101931 1779979416004714189 2880067194370816120 4660046610375530309 7540113804746346429 12200160415121876738 19740274219868223167 31940434634990099905 51680708854858323072 83621143489848422977 135301852344706746049 218922995834555169026 "
     ]
    }
   ],
   "source": [
    "# Question 6\n",
    "# Write a program to print Fibonacci series\n",
    "\n",
    "number = int(input(\"Enter length of Fibonacci series: \"))\n",
    "num1 = 0\n",
    "num2 = 1\n",
    "next_number = 0\n",
    "count = 1\n",
    "  \n",
    "while(count <= number):\n",
    "    print(next_number, end=\" \")\n",
    "    count += 1\n",
    "    num1 = num2\n",
    "    num2 = next_number\n",
    "    next_number = num1 + num2\n",
    "    Sum = num1 + num2"
   ]
  },
  {
   "cell_type": "code",
   "execution_count": null,
   "id": "ccb65b30",
   "metadata": {},
   "outputs": [],
   "source": []
  }
 ],
 "metadata": {
  "kernelspec": {
   "display_name": "Python 3 (ipykernel)",
   "language": "python",
   "name": "python3"
  },
  "language_info": {
   "codemirror_mode": {
    "name": "ipython",
    "version": 3
   },
   "file_extension": ".py",
   "mimetype": "text/x-python",
   "name": "python",
   "nbconvert_exporter": "python",
   "pygments_lexer": "ipython3",
   "version": "3.10.9"
  }
 },
 "nbformat": 4,
 "nbformat_minor": 5
}
