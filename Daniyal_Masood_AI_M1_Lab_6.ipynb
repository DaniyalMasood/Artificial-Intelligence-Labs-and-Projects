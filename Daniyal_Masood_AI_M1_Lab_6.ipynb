{
 "cells": [
  {
   "cell_type": "code",
   "execution_count": 1,
   "id": "d893d238",
   "metadata": {},
   "outputs": [
    {
     "name": "stdout",
     "output_type": "stream",
     "text": [
      "Enter number : 12\n",
      "Enter number : 34\n",
      "Enter number : -100\n",
      "Enter number : -1000\n",
      "Enter number : 34\n",
      "Enter number : 56\n",
      "Enter number : 23\n",
      "Enter number : 45\n",
      "Enter number : 1\n",
      "Enter number : -2000\n",
      "The elements in the list are [12, 34, -100, -1000, 34, 56, 23, 45, 1, -2000]\n",
      "Smallest number of list is  -2000\n"
     ]
    }
   ],
   "source": [
    "# Question 1\n",
    "# Take ten number from user in a list using loop and display smallest number (without built-in function).\n",
    "\n",
    "List = []\n",
    "number = 0\n",
    "for i in range (0,10):\n",
    "    number = int(input(\"Enter number : \"))\n",
    "    List.append(number)\n",
    "print(\"The elements in the list are\",List)\n",
    "\n",
    "for i in range (len(List)):\n",
    "    if(List[i] < List[0]):\n",
    "        smallest = List[i]\n",
    "    \n",
    "print(\"Smallest number of list is \", smallest)\n",
    "\n"
   ]
  },
  {
   "cell_type": "code",
   "execution_count": 21,
   "id": "8fdf8a1e",
   "metadata": {},
   "outputs": [
    {
     "name": "stdout",
     "output_type": "stream",
     "text": [
      "The sum of the list elements is 300\n"
     ]
    }
   ],
   "source": [
    "# Question 2\n",
    "# Write a Python program to sum all the items in a list.(Without built-in function).\n",
    "\n",
    "List = [20, 40, 60, 80, 100]\n",
    "List_Sum = 0\n",
    "\n",
    "\n",
    "for i in range (0, len(List)):\n",
    "    List_Sum = List_Sum + List[i]\n",
    "    \n",
    "print(\"The sum of the list elements is\",List_Sum)\n",
    "    \n"
   ]
  },
  {
   "cell_type": "code",
   "execution_count": 4,
   "id": "79cd29ff",
   "metadata": {},
   "outputs": [
    {
     "name": "stdout",
     "output_type": "stream",
     "text": [
      "The product of the list elements is 384000000\n"
     ]
    }
   ],
   "source": [
    "# Question 3\n",
    "# Write a Python program to multiply all the items in a list.\n",
    "\n",
    "List = [20, 40, 60, 80, 100]\n",
    "List_Product = 1\n",
    "\n",
    "\n",
    "for i in range (0, len(List)):\n",
    "    List_Product = List_Product * List[i]\n",
    "    \n",
    "print(\"The product of the list elements is\",List_Product)\n",
    "    \n"
   ]
  },
  {
   "cell_type": "code",
   "execution_count": 32,
   "id": "503900fe",
   "metadata": {},
   "outputs": [
    {
     "name": "stdout",
     "output_type": "stream",
     "text": [
      "Enter the element for List A : 1\n",
      "Enter the element for List A : 2\n",
      "Enter the element for List A : 3\n",
      "Enter the element for List A : 4\n",
      "Enter the element for List A : 5\n",
      "\n",
      "\n",
      "Enter the element for List B : 1\n",
      "Enter the element for List B : 2\n",
      "Enter the element for List B : 3\n",
      "Enter the element for List B : 4\n",
      "Enter the element for List B : 5\n",
      "\n",
      "Elements in list A are :  [1, 2, 3, 4, 5]\n",
      "Elements in list A are :  [1, 2, 3, 4, 5]\n",
      "Yes List A and List B have common elements\n"
     ]
    }
   ],
   "source": [
    "# Question 4\n",
    "# Write a Python program that takes two lists and print \"Yes\" if they have at least one common member.\n",
    "\n",
    "List_A = []\n",
    "List_B = []\n",
    "number = 0\n",
    "flag = 0\n",
    "for i in range(0,5):\n",
    "    number = int(input(\"Enter the element for List A : \"))\n",
    "    List_A.append(number)\n",
    "print(\"\\n\")\n",
    "for i in range(0,5):\n",
    "    number = int(input(\"Enter the element for List B : \"))\n",
    "    List_B.append(number)\n",
    "    \n",
    "print(\"\\nElements in list A are : \", List_A)\n",
    "print(\"Elements in list A are : \", List_B)\n",
    "\n",
    "for i in List_B:\n",
    "    if i in List_A:\n",
    "        flag = 1\n",
    "        \n",
    "if flag == 1:\n",
    "    print(\"Yes List A and List B have common elements\")\n",
    "else:\n",
    "    print(\"No List A and List B have no common elements\")\n",
    "\n",
    "    \n",
    "\n",
    "\n",
    "    "
   ]
  },
  {
   "cell_type": "code",
   "execution_count": null,
   "id": "7f7b6349",
   "metadata": {},
   "outputs": [],
   "source": []
  },
  {
   "cell_type": "code",
   "execution_count": null,
   "id": "b2393a25",
   "metadata": {},
   "outputs": [],
   "source": []
  }
 ],
 "metadata": {
  "kernelspec": {
   "display_name": "Python 3 (ipykernel)",
   "language": "python",
   "name": "python3"
  },
  "language_info": {
   "codemirror_mode": {
    "name": "ipython",
    "version": 3
   },
   "file_extension": ".py",
   "mimetype": "text/x-python",
   "name": "python",
   "nbconvert_exporter": "python",
   "pygments_lexer": "ipython3",
   "version": "3.10.9"
  }
 },
 "nbformat": 4,
 "nbformat_minor": 5
}
