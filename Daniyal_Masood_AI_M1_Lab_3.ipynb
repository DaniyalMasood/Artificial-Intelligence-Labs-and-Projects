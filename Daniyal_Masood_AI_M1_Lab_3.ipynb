{
 "cells": [
  {
   "cell_type": "code",
   "execution_count": 4,
   "id": "a6ef020f",
   "metadata": {},
   "outputs": [
    {
     "name": "stdout",
     "output_type": "stream",
     "text": [
      "Please enter the first number : 4\n",
      "Please enter the second number : 2\n",
      "\n",
      "The number 4 is the multiple of the number 2\n"
     ]
    }
   ],
   "source": [
    "# Question 1\n",
    "# Write a Python program that takes two integers as input and checks if one is a multiple of the other.\n",
    "\n",
    "first_number = int(input(\"Please enter the first number : \"))\n",
    "second_number = int(input(\"Please enter the second number : \"))\n",
    "\n",
    "if (first_number % second_number == 0):\n",
    "    print(\"\\nThe number\", first_number,\"is the multiple of the number\", second_number)\n",
    "    \n",
    "else:\n",
    "    print(\"\\nThe number\", first_number,\"is not the multiple of the number\", second_number) "
   ]
  },
  {
   "cell_type": "code",
   "execution_count": 5,
   "id": "96e79c91",
   "metadata": {},
   "outputs": [
    {
     "name": "stdout",
     "output_type": "stream",
     "text": [
      "Enter the values of a : 4\n",
      "Enter the values of b : 3\n",
      "Enter the values of c : 5\n",
      "4 , 3 , 5  are Pythagorean Triplet\n"
     ]
    }
   ],
   "source": [
    "# Question 2\n",
    "# Write a Python program that takes three integers as input and determines if they form a Pythagorean triplet (a^2 + b^2 = c^2).\n",
    "\n",
    "a = int(input(\"Enter the values of a : \"))\n",
    "b = int(input(\"Enter the values of b : \"))\n",
    "c = int(input(\"Enter the values of c : \"))\n",
    "\n",
    "if(((a*a)+ (b*b) ==(c*c))):\n",
    "    print(a,\",\",b,\",\",c,\" are Pythagorean Triplet\")\n",
    "\n",
    "else:\n",
    "    print(a,\",\",b,\",\",c,\" are  not Pythagorean Triplet\") "
   ]
  },
  {
   "cell_type": "code",
   "execution_count": 20,
   "id": "e0692183",
   "metadata": {},
   "outputs": [
    {
     "name": "stdout",
     "output_type": "stream",
     "text": [
      "Enter the values of first side : 3\n",
      "Enter the values of second side : 4\n",
      "Enter the values of third side : 5\n",
      "\n",
      "Largest Side is third which is 5\n",
      "Triangle is right angle triangle\n"
     ]
    }
   ],
   "source": [
    "# Question 3\n",
    "#Write a Python program that takes three sides of a triangle as input and determines if it is a right-angled triangle.\n",
    "\n",
    "first_side = int(input(\"Enter the values of first side : \"))\n",
    "second_side = int(input(\"Enter the values of second side : \"))\n",
    "third_side = int(input(\"Enter the values of third side : \"))\n",
    "\n",
    "if(first_side > (second_side and third_side)):\n",
    "    largest_side = first_side\n",
    "    print(\"\\nLargest Side is first which is\",largest_side)\n",
    "    if(((second_side*second_side)+(third_side*third_side)) == (largest_side*largest_side)):\n",
    "        print(\"Triangle is right angle triangle\")\n",
    "    else:\n",
    "        print(\"Triangle is not right angle triangle\")\n",
    "        \n",
    "elif(second_side > (first_side and third_side)):\n",
    "    largest_side = second_side\n",
    "    print(\"\\nLargest Side is second which is\",largest_side)\n",
    "    if(((first_side*first_side)+(third_side*third_side)) == (largest_side*largest_side)):\n",
    "        print(\"Triangle is right angle triangle\")\n",
    "    else:\n",
    "        print(\"Triangle is not right angle triangle\")\n",
    "        \n",
    "else:\n",
    "    largest_side = third_side\n",
    "    print(\"\\nLargest Side is third which is\",largest_side)\n",
    "    if(((second_side*second_side)+(first_side*first_side)) == (largest_side*largest_side)):\n",
    "        print(\"Triangle is right angle triangle\")\n",
    "    else:\n",
    "        print(\"Triangle is not right angle triangle\")\n",
    "        \n",
    "     \n",
    "    "
   ]
  },
  {
   "cell_type": "code",
   "execution_count": null,
   "id": "6258f9fd",
   "metadata": {},
   "outputs": [],
   "source": [
    "# Question 4\n",
    "# Write a Python program that takes a year as input and determines if it is a leap year without using the built-in calendar module.\n",
    "\n",
    "year = int(input(\"Please enter the year number : \"))\n",
    "\n",
    "if((year%400 == 0) or (year%4 == 0 and year%100 !=0)):\n",
    "    print(year,\"is leap year\")\n",
    "    \n",
    "else:\n",
    "    print(year,\"is not leap year\")\n"
   ]
  },
  {
   "cell_type": "code",
   "execution_count": null,
   "id": "038a3cc3",
   "metadata": {},
   "outputs": [],
   "source": [
    "number = int(input(\"Please enter the number : \"))\n",
    "\n",
    "last_digit = number % 10\n",
    "print(last_digit)\n",
    "\n",
    "if(last_digit % 3 == 0):\n",
    "    print(\"divisible by 3\")\n",
    "\n",
    "else:\n",
    "    print(\"not divisible by 3\")\n"
   ]
  },
  {
   "cell_type": "code",
   "execution_count": null,
   "id": "495c7d40",
   "metadata": {},
   "outputs": [],
   "source": []
  },
  {
   "cell_type": "code",
   "execution_count": null,
   "id": "554f65f4",
   "metadata": {},
   "outputs": [],
   "source": [
    "fruit_list = [\"Apple\", \"Banana\", \"Cherry\", \"Pineapple\", \"Mango\", \"Strawberry\", \"Pomegrant\", \"Orange\", \"Watermelon\", \"Kiwi\"]\n",
    "\n",
    "length = len(fruit_list)\n",
    "count  = 0;\n",
    "\n",
    "while count < length:\n",
    "    print(\"The fruit at index\",count, \"is\", fruit_list[count],\" which has\",len(fruit_list[count]),\"elements\")\n",
    "    count = count + 1\n",
    "    \n",
    "\n",
    "    \n"
   ]
  },
  {
   "cell_type": "code",
   "execution_count": null,
   "id": "9b7311cb",
   "metadata": {},
   "outputs": [],
   "source": [
    "\n",
    "            \n",
    "    \n",
    "        \n"
   ]
  },
  {
   "cell_type": "code",
   "execution_count": null,
   "id": "4b9bfc26",
   "metadata": {},
   "outputs": [],
   "source": []
  }
 ],
 "metadata": {
  "kernelspec": {
   "display_name": "Python 3 (ipykernel)",
   "language": "python",
   "name": "python3"
  },
  "language_info": {
   "codemirror_mode": {
    "name": "ipython",
    "version": 3
   },
   "file_extension": ".py",
   "mimetype": "text/x-python",
   "name": "python",
   "nbconvert_exporter": "python",
   "pygments_lexer": "ipython3",
   "version": "3.10.9"
  }
 },
 "nbformat": 4,
 "nbformat_minor": 5
}
